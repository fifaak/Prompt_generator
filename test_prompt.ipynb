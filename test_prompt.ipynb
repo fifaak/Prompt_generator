{
 "cells": [
  {
   "cell_type": "code",
   "execution_count": null,
   "metadata": {},
   "outputs": [],
   "source": [
    "%pip install openai\n",
    "%pip install pandas\n",
    "%pip install scikit-learn\n",
    "%pip install seaborn\n",
    "%pip install matplotlib\n",
    "%pip install imblearn\n",
    "%pip install emoji"
   ]
  },
  {
   "cell_type": "code",
   "execution_count": 1,
   "metadata": {},
   "outputs": [
    {
     "ename": "ModuleNotFoundError",
     "evalue": "No module named 'openai'",
     "output_type": "error",
     "traceback": [
      "\u001b[0;31m---------------------------------------------------------------------------\u001b[0m",
      "\u001b[0;31mModuleNotFoundError\u001b[0m                       Traceback (most recent call last)",
      "Cell \u001b[0;32mIn[1], line 1\u001b[0m\n\u001b[0;32m----> 1\u001b[0m \u001b[38;5;28;01mfrom\u001b[39;00m \u001b[38;5;21;01mopenai\u001b[39;00m \u001b[38;5;28;01mimport\u001b[39;00m OpenAI\n\u001b[1;32m      2\u001b[0m \u001b[38;5;28;01mimport\u001b[39;00m \u001b[38;5;21;01mos\u001b[39;00m\n\u001b[1;32m      3\u001b[0m \u001b[38;5;28;01mimport\u001b[39;00m \u001b[38;5;21;01mjson\u001b[39;00m\n",
      "\u001b[0;31mModuleNotFoundError\u001b[0m: No module named 'openai'"
     ]
    }
   ],
   "source": [
    "from openai import OpenAI\n",
    "import os\n",
    "import json\n",
    "def request_hint(word):\n",
    "    API_KEY = \"KEY\" #\n",
    "\n",
    "    client = OpenAI(\n",
    "        api_key=API_KEY,  \n",
    "        base_url=\"https://api.opentyphoon.ai/v1\",\n",
    "    )\n",
    "\n",
    "    stream = client.chat.completions.create(\n",
    "        model=\"typhoon-v1.5x-70b-instruct\",\n",
    "        messages=[\n",
    "            {\n",
    "                \"role\": \"system\",\n",
    "                \"content\": \n",
    "                \"\"\"\n",
    "                คุณเป็นเจ้าหน้าที่ตรวจสอบคอมเม้นในบริษัทโซเชียลมีเดีย.\n",
    "                มีหน้าที่ตรวจสอบข้อความและระบุเจตนาหรืออารมณ์ในแต่ละข้อความ,พิจารณาอิโมจิ.\n",
    "                โดยที่เจตนาบวกแทนด้วยเลข 0, ไม่มีเจตนาหรืออารมณ์แทนด้วยเลข 1,เจตนาลบแทนด้วยเลข 2, และเจตนาถามแทนด้วยเลข 3.\n",
    "                ให้คุณวิเคราะห์เจตนาหรืออารมณ์ข้อความของ ผู้ใช้งาน และระบุตัวเลขเจตนาตามที่กำหนดไว้.\n",
    "                โดยคิดอย่างเป็นขั้นตอน.\n",
    "\n",
    "                ตัวอย่างการวิเคราะห์ข้อความ เจตนา และเหตุผล:\n",
    "                - เปิดศักราชใหม่! นายกฯ แถลงข่าวก่อนการแข่งขันศึก #ช้างเอฟเอคัพ นัดชิงชนะเลิศ => 1 เพราะคอมเม้นนี้สื่ออารมณ์เป็นกลาง\n",
    "                - (emoji:smiling_face_with_heart-eyes::smiling_face_with_heart-eyes:) => 0 เพราะคอมเม้นนี้สื่อไปในทางรัก\n",
    "                - บัตรสมาชิกลดได้อีกไหมคับ => 3 เพราะคอมเม้นนี้สื่อไปในการตั้งคำถาม\n",
    "                - 张丽霞 อ้อออ ผ้าอนามัยแบบสอดอ่ะนะ กุกลัวมาก 5555555 => 2  เพราะคอมเม้นนี้สื่ออารมณ์ความกังวน กลัว\n",
    "             \n",
    "\n",
    "                \"\"\"\n",
    "            },\n",
    "            {\n",
    "                \"role\": \"user\",\n",
    "               # \"content\": f\"ผมอยากฝึกพูดคำว่า {word}\"\n",
    "                \"content\": f\"ลูกค้าคอมเม้นบอกว่า '{word}' มีเจตนาหรืออารมณ์ ตรงกับเลขอะไร (ตอบเฉพาะตัวเลข)\"\n",
    "\n",
    "            }\n",
    "        ],\n",
    "        max_tokens=200,\n",
    "        temperature=0.0,\n",
    "        top_p=1,\n",
    "        stream=True,\n",
    "    )\n",
    "    output = \"\"\n",
    "    for chunk in stream:\n",
    "        if hasattr(chunk, 'choices') and len(chunk.choices) > 0:\n",
    "            choice = chunk.choices[0]\n",
    "            if hasattr(choice, 'delta') and hasattr(choice.delta, 'content'):\n",
    "                print(choice.delta.content,end=\"\")\n",
    "                output+=choice.delta.content\n",
    " \n",
    "    return output"
   ]
  },
  {
   "cell_type": "markdown",
   "metadata": {},
   "source": [
    "### PromptV.2 + RAG"
   ]
  },
  {
   "cell_type": "code",
   "execution_count": 27,
   "metadata": {},
   "outputs": [],
   "source": [
    "import pandas as pd\n",
    "import re\n",
    "import emoji\n",
    "from openai import OpenAI\n",
    "from sklearn.model_selection import train_test_split\n",
    "from sklearn.feature_extraction.text import TfidfVectorizer\n",
    "from sklearn.metrics.pairwise import cosine_similarity\n",
    "\n",
    "# Load and preprocess the CSV data\n",
    "data_path = 'data/train.csv'\n",
    "df = pd.read_csv(data_path)\n",
    "\n",
    "# Data cleaning and preprocessing functions\n",
    "def clean_text(text):\n",
    "    # Convert to lowercase\n",
    "    text = text.lower()\n",
    "    # Remove URLs\n",
    "    text = re.sub(r'http\\S+|www\\S+|https\\S+', '', text, flags=re.MULTILINE)\n",
    "    # Remove special characters and numbers\n",
    "    text = re.sub(r'[^\\w\\s]', '', text)\n",
    "    text = re.sub(r'\\d+', '', text)\n",
    "    # Remove extra whitespace\n",
    "    text = ' '.join(text.split())\n",
    "    return text\n",
    "\n",
    "def extract_emojis(text):\n",
    "    return ''.join(c for c in text if c in emoji.UNICODE_EMOJI['en'])\n",
    "\n",
    "# Apply preprocessing to the dataset\n",
    "df['cleaned_text'] = df['texts'].apply(clean_text)\n",
    "df['emojis'] = df['texts'].apply(extract_emojis)\n",
    "\n",
    "# Initialize OpenAI client\n",
    "API_KEY = \"KEY\"\n",
    "client = OpenAI(api_key=API_KEY, base_url=\"https://api.opentyphoon.ai/v1\")\n",
    "\n",
    "# Create TF-IDF vectorizer for RAG\n",
    "vectorizer = TfidfVectorizer()\n",
    "tfidf_matrix = vectorizer.fit_transform(df['cleaned_text'])\n",
    "\n",
    "# Define the RAG function\n",
    "def classify_sentiment(text, k=3):\n",
    "    # Preprocess the input text\n",
    "    cleaned_input = clean_text(text)\n",
    "    input_emojis = extract_emojis(text)\n",
    "    \n",
    "    # Find similar documents\n",
    "    input_vector = vectorizer.transform([cleaned_input])\n",
    "    similarities = cosine_similarity(input_vector, tfidf_matrix)[0]\n",
    "    top_k_indices = similarities.argsort()[-k:][::-1]\n",
    "    \n",
    "    # Construct context from similar documents\n",
    "    context = \"\\n\".join([f\"- {df['texts'].iloc[i]}\" for i in top_k_indices])\n",
    "    \n",
    "    # Define the retrieval and generation prompt\n",
    "    prompt = f\"\"\"\n",
    "    คุณเป็นผู้เชี่ยวชาญด้านการวิเคราะห์ความรู้สึกในภาษาไทย โดยเฉพาะในบริบทของโซเชียลมีเดีย\n",
    "    หน้าที่ของคุณคือวิเคราะห์ข้อความและระบุความรู้สึกหรืออารมณ์ในแต่ละข้อความ โดยพิจารณาทั้งเนื้อหา บริบท และอิโมจิ\n",
    "\n",
    "    กำหนดให้:\n",
    "    0 = ความรู้สึกเชิงบวก\n",
    "    1 = ความรู้สึกเป็นกลาง\n",
    "    2 = ความรู้สึกเชิงลบ\n",
    "    3 = คำถามหรือการสอบถาม\n",
    "\n",
    "    คำแนะนำในการวิเคราะห์:\n",
    "    1. พิจารณาคำศัพท์และสำนวนที่ใช้ในข้อความ\n",
    "    2. ให้ความสำคัญกับอิโมจิที่ปรากฏ เพราะอาจสื่อความรู้สึกที่ไม่ได้ระบุในข้อความ\n",
    "    3. สังเกตการใช้ภาษาแบบประชดประชัน หรือการใช้คำที่มีความหมายตรงข้าม\n",
    "    4. พิจารณาบริบทโดยรวมของข้อความ\n",
    "\n",
    "    ตัวอย่างการวิเคราะห์:\n",
    "    - \"วันนี้อากาศดีมาก 🌞\" => 0 (เชิงบวก เพราะใช้คำว่า \"ดีมาก\" และมีอิโมจิพระอาทิตย์)\n",
    "    - \"ราคาสินค้าเท่าไหร่ครับ?\" => 3 (คำถาม เพราะมีการถามราคาสินค้า)\n",
    "    - \"บริการแย่มาก ไม่มาอีกแล้ว 😡\" => 2 (เชิงลบ เพราะใช้คำว่า \"แย่มาก\" และมีอิโมจิโกรธ)\n",
    "    - \"วันนี้ก็เหมือนทุกวัน ไม่มีอะไรพิเศษ\" => 1 (เป็นกลาง เพราะไม่แสดงความรู้สึกทั้งบวกหรือลบ)\n",
    "\n",
    "    ข้อความที่ต้องวิเคราะห์: \"{text}\"\n",
    "    อิโมจิที่พบในข้อความ: \"{input_emojis}\"\n",
    "\n",
    "    ข้อความที่มีความคล้ายคลึง (เพื่อเป็นบริบทเพิ่มเติม):\n",
    "    {context}\n",
    "\n",
    "    กรุณาวิเคราะห์ความรู้สึกของข้อความข้างต้น และตอบเพียงตัวเลข (0, 1, 2, หรือ 3) ที่ตรงกับความรู้สึกมากที่สุด\n",
    "    \"\"\"\n",
    "\n",
    "    # Make a request to the OpenAI API\n",
    "    response = client.chat.completions.create(\n",
    "        model=\"typhoon-v1.5x-70b-instruct\",\n",
    "        messages=[\n",
    "            {\n",
    "                \"role\": \"system\",\n",
    "                \"content\": prompt\n",
    "            },\n",
    "            {\n",
    "                \"role\": \"user\",\n",
    "                \"content\": text\n",
    "            }\n",
    "        ],\n",
    "        max_tokens=10,\n",
    "        temperature=0.2,\n",
    "        top_p=1,\n",
    "        stream=False\n",
    "    )\n",
    "\n",
    "    # Extract the classification result from the response\n",
    "    output = response.choices[0].message.content.strip()\n",
    "    return output\n",
    "\n",
    "# Apply the RAG model to classify sentiments for each text in the dataset\n",
    "df['predicted_category'] = df['texts'].apply(classify_sentiment)\n",
    "\n",
    "# Save the results\n",
    "output_path = 'data/prediction.csv'\n",
    "df.to_csv(output_path, index=False)"
   ]
  },
  {
   "cell_type": "markdown",
   "metadata": {},
   "source": [
    "Evaluate"
   ]
  },
  {
   "cell_type": "markdown",
   "metadata": {},
   "source": [
    "confusion matrix"
   ]
  },
  {
   "cell_type": "code",
   "execution_count": 30,
   "metadata": {},
   "outputs": [
    {
     "name": "stdout",
     "output_type": "stream",
     "text": [
      "accuracy: 46.5 %\n"
     ]
    },
    {
     "data": {
      "image/png": "[encoded data removed]",
      "text/plain": [
       "<Figure size 1000x700 with 2 Axes>"
      ]
     },
     "metadata": {},
     "output_type": "display_data"
    }
   ],
   "source": [
    "import pandas as pd\n",
    "import matplotlib.pyplot as plt\n",
    "import seaborn as sns\n",
    "from sklearn.metrics import confusion_matrix\n",
    "\n",
    "# Read the CSV file\n",
    "test_df = pd.read_csv(\"data/prediction.csv\")\n",
    "\n",
    "# Function to calculate accuracy\n",
    "def get_acc(test_df):\n",
    "    return len(test_df[test_df['category'] == test_df['predicted_category']]) * 100 / len(test_df)\n",
    "\n",
    "# Calculate accuracy\n",
    "accuracy = get_acc(test_df)\n",
    "print(\"accuracy:\", accuracy, \"%\")\n",
    "\n",
    "# Calculate the confusion matrix\n",
    "conf_matrix = confusion_matrix(test_df['category'], test_df['predicted_category'])\n",
    "\n",
    "# Plot the confusion matrix\n",
    "plt.figure(figsize=(10, 7))\n",
    "sns.heatmap(conf_matrix, annot=True, fmt='d', cmap='Blues', xticklabels=test_df['category'].unique(), yticklabels=test_df['category'].unique())\n",
    "plt.xlabel('Predicted')\n",
    "plt.ylabel('Actual')\n",
    "plt.title('Confusion Matrix')\n",
    "plt.show()\n"
   ]
  },
  {
   "cell_type": "markdown",
   "metadata": {},
   "source": [
    "### Error Analysis (imbalance data)"
   ]
  },
  {
   "cell_type": "code",
   "execution_count": 34,
   "metadata": {},
   "outputs": [
    {
     "name": "stdout",
     "output_type": "stream",
     "text": [
      "[[ 346  253  139   35]\n",
      " [ 514 1276  462  107]\n",
      " [ 123  257  675   44]\n",
      " [   9   33   20   33]]\n",
      "              precision    recall  f1-score   support\n",
      "\n",
      "           0       0.35      0.45      0.39       773\n",
      "           1       0.70      0.54      0.61      2359\n",
      "           2       0.52      0.61      0.56      1099\n",
      "           3       0.15      0.35      0.21        95\n",
      "\n",
      "    accuracy                           0.54      4326\n",
      "   macro avg       0.43      0.49      0.44      4326\n",
      "weighted avg       0.58      0.54      0.55      4326\n",
      "\n"
     ]
    }
   ],
   "source": [
    "import pandas as pd\n",
    "from sklearn.model_selection import train_test_split, GridSearchCV\n",
    "from sklearn.ensemble import RandomForestClassifier\n",
    "from sklearn.feature_extraction.text import TfidfVectorizer\n",
    "from imblearn.over_sampling import SMOTE\n",
    "from sklearn.metrics import confusion_matrix, classification_report\n",
    "\n",
    "# Load the data\n",
    "data_path = 'data/train.csv'\n",
    "df = pd.read_csv(data_path)\n",
    "\n",
    "# Split the data into features (X) and target (y)\n",
    "X = df['texts']  # Assuming 'texts' is the column with your input data\n",
    "y = df['category']  # Assuming 'category' is your target variable\n",
    "\n",
    "# Split the data into training and testing sets\n",
    "X_train, X_test, y_train, y_test = train_test_split(X, y, test_size=0.2, random_state=42, stratify=y)\n",
    "\n",
    "# Use TF-IDF for feature extraction\n",
    "tfidf = TfidfVectorizer(max_features=5000)  # You can adjust max_features as needed\n",
    "X_train_tfidf = tfidf.fit_transform(X_train)\n",
    "X_test_tfidf = tfidf.transform(X_test)\n",
    "\n",
    "# Apply SMOTE for balancing\n",
    "smote = SMOTE(random_state=42)\n",
    "X_train_resampled, y_train_resampled = smote.fit_resample(X_train_tfidf, y_train)\n",
    "\n",
    "# Create and tune the model\n",
    "rf = RandomForestClassifier(random_state=42)\n",
    "param_grid = {\n",
    "    'n_estimators': [100, 200, 300],\n",
    "    'max_depth': [10, 20, 30, None],\n",
    "    'min_samples_split': [2, 5, 10],\n",
    "    'min_samples_leaf': [1, 2, 4]\n",
    "}\n",
    "grid_search = GridSearchCV(rf, param_grid, cv=5, scoring='f1_macro', n_jobs=-1)\n",
    "grid_search.fit(X_train_resampled, y_train_resampled)\n",
    "\n",
    "# Get the best model\n",
    "best_model = grid_search.best_estimator_\n",
    "\n",
    "# Make predictions\n",
    "y_pred = best_model.predict(X_test_tfidf)\n",
    "\n",
    "# Evaluate\n",
    "print(confusion_matrix(y_test, y_pred))\n",
    "print(classification_report(y_test, y_pred))"
   ]
  },
  {
   "cell_type": "code",
   "execution_count": 35,
   "metadata": {},
   "outputs": [
    {
     "data": {
      "image/png": "[encoded data removed]",
      "text/plain": [
       "<Figure size 1000x700 with 2 Axes>"
      ]
     },
     "metadata": {},
     "output_type": "display_data"
    }
   ],
   "source": [
    "conf_matrix = confusion_matrix(y_test, y_pred)\n",
    "# Plot the confusion matrix\n",
    "plt.figure(figsize=(10, 7))\n",
    "sns.heatmap(conf_matrix, annot=True, fmt='d', cmap='Blues', xticklabels=test_df['category'].unique(), yticklabels=test_df['category'].unique())\n",
    "plt.xlabel('Predicted')\n",
    "plt.ylabel('Actual')\n",
    "plt.title('Confusion Matrix')\n",
    "plt.show()"
   ]
  }
 ],
 "metadata": {
  "kernelspec": {
   "display_name": "prompt_generator",
   "language": "python",
   "name": "python3"
  },
  "language_info": {
   "codemirror_mode": {
    "name": "ipython",
    "version": 3
   },
   "file_extension": ".py",
   "mimetype": "text/x-python",
   "name": "python",
   "nbconvert_exporter": "python",
   "pygments_lexer": "ipython3",
   "version": "3.12.4"
  }
 },
 "nbformat": 4,
 "nbformat_minor": 2
}
