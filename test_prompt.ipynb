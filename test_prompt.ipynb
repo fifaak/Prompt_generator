{
 "cells": [
  {
   "cell_type": "code",
   "execution_count": null,
   "metadata": {},
   "outputs": [],
   "source": [
    "%pip install openai\n",
    "%pip install pandas\n",
    "%pip install scikit-learn\n",
    "%pip install seaborn\n",
    "%pip install matplotlib"
   ]
  },
  {
   "cell_type": "code",
   "execution_count": 24,
   "metadata": {},
   "outputs": [
    {
     "name": "stdout",
     "output_type": "stream",
     "text": [
      "Collecting emoji\n",
      "  Downloading emoji-2.12.1-py3-none-any.whl.metadata (5.4 kB)\n",
      "Requirement already satisfied: typing-extensions>=4.7.0 in /opt/anaconda3/envs/prompt_generator/lib/python3.12/site-packages (from emoji) (4.12.2)\n",
      "Downloading emoji-2.12.1-py3-none-any.whl (431 kB)\n",
      "\u001b[2K   \u001b[38;2;114;156;31m━━━━━━━━━━━━━━━━━━━━━━━━━━━━━━━━━━━━━━━━\u001b[0m \u001b[32m431.4/431.4 kB\u001b[0m \u001b[31m4.7 MB/s\u001b[0m eta \u001b[36m0:00:00\u001b[0m MB/s\u001b[0m eta \u001b[36m0:00:01\u001b[0m\n",
      "\u001b[?25hInstalling collected packages: emoji\n",
      "Successfully installed emoji-2.12.1\n",
      "Note: you may need to restart the kernel to use updated packages.\n"
     ]
    }
   ],
   "source": [
    "%pip install emoji"
   ]
  },
  {
   "cell_type": "code",
   "execution_count": 1,
   "metadata": {},
   "outputs": [
    {
     "ename": "ModuleNotFoundError",
     "evalue": "No module named 'openai'",
     "output_type": "error",
     "traceback": [
      "\u001b[0;31m---------------------------------------------------------------------------\u001b[0m",
      "\u001b[0;31mModuleNotFoundError\u001b[0m                       Traceback (most recent call last)",
      "Cell \u001b[0;32mIn[1], line 1\u001b[0m\n\u001b[0;32m----> 1\u001b[0m \u001b[38;5;28;01mfrom\u001b[39;00m \u001b[38;5;21;01mopenai\u001b[39;00m \u001b[38;5;28;01mimport\u001b[39;00m OpenAI\n\u001b[1;32m      2\u001b[0m \u001b[38;5;28;01mimport\u001b[39;00m \u001b[38;5;21;01mos\u001b[39;00m\n\u001b[1;32m      3\u001b[0m \u001b[38;5;28;01mimport\u001b[39;00m \u001b[38;5;21;01mjson\u001b[39;00m\n",
      "\u001b[0;31mModuleNotFoundError\u001b[0m: No module named 'openai'"
     ]
    }
   ],
   "source": [
    "from openai import OpenAI\n",
    "import os\n",
    "import json\n",
    "def request_hint(word):\n",
    "    API_KEY = \"sk-jCsvhJjSF0Jaq63NrfZJnvFsvNyXcO6WtuuhIAs70cgR77jo\" #\n",
    "\n",
    "    client = OpenAI(\n",
    "        api_key=API_KEY,  \n",
    "        base_url=\"https://api.opentyphoon.ai/v1\",\n",
    "    )\n",
    "\n",
    "    stream = client.chat.completions.create(\n",
    "        model=\"typhoon-v1.5x-70b-instruct\",\n",
    "        messages=[\n",
    "            {\n",
    "                \"role\": \"system\",\n",
    "                \"content\": \n",
    "                \"\"\"\n",
    "                คุณเป็นเจ้าหน้าที่ตรวจสอบคอมเม้นในบริษัทโซเชียลมีเดีย.\n",
    "                มีหน้าที่ตรวจสอบข้อความและระบุเจตนาหรืออารมณ์ในแต่ละข้อความ,พิจารณาอิโมจิ.\n",
    "                โดยที่เจตนาบวกแทนด้วยเลข 0, ไม่มีเจตนาหรืออารมณ์แทนด้วยเลข 1,เจตนาลบแทนด้วยเลข 2, และเจตนาถามแทนด้วยเลข 3.\n",
    "                ให้คุณวิเคราะห์เจตนาหรืออารมณ์ข้อความของ ผู้ใช้งาน และระบุตัวเลขเจตนาตามที่กำหนดไว้.\n",
    "                โดยคิดอย่างเป็นขั้นตอน.\n",
    "\n",
    "                ตัวอย่างการวิเคราะห์ข้อความ เจตนา และเหตุผล:\n",
    "                - เปิดศักราชใหม่! นายกฯ แถลงข่าวก่อนการแข่งขันศึก #ช้างเอฟเอคัพ นัดชิงชนะเลิศ => 1 เพราะคอมเม้นนี้สื่ออารมณ์เป็นกลาง\n",
    "                - (emoji:smiling_face_with_heart-eyes::smiling_face_with_heart-eyes:) => 0 เพราะคอมเม้นนี้สื่อไปในทางรัก\n",
    "                - บัตรสมาชิกลดได้อีกไหมคับ => 3 เพราะคอมเม้นนี้สื่อไปในการตั้งคำถาม\n",
    "                - 张丽霞 อ้อออ ผ้าอนามัยแบบสอดอ่ะนะ กุกลัวมาก 5555555 => 2  เพราะคอมเม้นนี้สื่ออารมณ์ความกังวน กลัว\n",
    "             \n",
    "\n",
    "                \"\"\"\n",
    "            },\n",
    "            {\n",
    "                \"role\": \"user\",\n",
    "               # \"content\": f\"ผมอยากฝึกพูดคำว่า {word}\"\n",
    "                \"content\": f\"ลูกค้าคอมเม้นบอกว่า '{word}' มีเจตนาหรืออารมณ์ ตรงกับเลขอะไร (ตอบเฉพาะตัวเลข)\"\n",
    "\n",
    "            }\n",
    "        ],\n",
    "        max_tokens=200,\n",
    "        temperature=0.0,\n",
    "        top_p=1,\n",
    "        stream=True,\n",
    "    )\n",
    "    output = \"\"\n",
    "    for chunk in stream:\n",
    "        if hasattr(chunk, 'choices') and len(chunk.choices) > 0:\n",
    "            choice = chunk.choices[0]\n",
    "            if hasattr(choice, 'delta') and hasattr(choice.delta, 'content'):\n",
    "                print(choice.delta.content,end=\"\")\n",
    "                output+=choice.delta.content\n",
    " \n",
    "    return output"
   ]
  },
  {
   "cell_type": "markdown",
   "metadata": {},
   "source": [
    "### PromptV.2 + RAG"
   ]
  },
  {
   "cell_type": "code",
   "execution_count": 27,
   "metadata": {},
   "outputs": [],
   "source": [
    "import pandas as pd\n",
    "import re\n",
    "from emoji import demojize\n",
    "from openai import OpenAI\n",
    "\n",
    "# Load and preprocess the CSV data\n",
    "data_path = 'data/train.csv'\n",
    "df = pd.read_csv(data_path)\n",
    "df = df.tail(200)\n",
    "\n",
    "# Data cleaning and preprocessing functions\n",
    "def preprocess_text(text):\n",
    "    # Convert emojis to text descriptions\n",
    "    text = demojize(text, language='th')\n",
    "    \n",
    "    # Remove URLs\n",
    "    text = re.sub(r'http\\S+|www.\\S+', '', text)\n",
    "    \n",
    "    # Remove special characters except Thai characters and spaces\n",
    "    text = re.sub(r'[^\\u0E00-\\u0E7Fa-zA-Z\\s]', '', text)\n",
    "    \n",
    "    # Convert to lowercase (for non-Thai characters)\n",
    "    text = text.lower()\n",
    "    \n",
    "    # Remove extra whitespace\n",
    "    text = ' '.join(text.split())\n",
    "    \n",
    "    return text\n",
    "\n",
    "# Apply preprocessing to the 'texts' column\n",
    "df['preprocessed_texts'] = df['texts'].apply(preprocess_text)\n",
    "\n",
    "# Initialize OpenAI client\n",
    "API_KEY = \"sk-jCsvhJjSF0Jaq63NrfZJnvFsvNyXcO6WtuuhIAs70cgR77jo\"\n",
    "client = OpenAI(api_key=API_KEY, base_url=\"https://api.opentyphoon.ai/v1\")\n",
    "\n",
    "# Define the improved RAG function\n",
    "def classify_sentiment(text):\n",
    "    prompt = f\"\"\"\n",
    "    คุณเป็นผู้เชี่ยวชาญด้านการวิเคราะห์ความรู้สึกในภาษาไทย มีหน้าที่ตรวจสอบและวิเคราะห์ข้อความในโซเชียลมีเดีย\n",
    "    เพื่อระบุเจตนาหรืออารมณ์ในแต่ละข้อความ โดยพิจารณาทั้งบริบท ภาษาที่ใช้ และอิโมจิ (ถ้ามี)\n",
    "\n",
    "    กำหนดให้:\n",
    "    0 = เจตนาบวก (positive)\n",
    "    1 = เป็นกลางหรือไม่มีอารมณ์ (neutral)\n",
    "    2 = เจตนาลบ (negative)\n",
    "    3 = เจตนาถาม (question)\n",
    "\n",
    "    คำแนะนำในการวิเคราะห์:\n",
    "    1. พิจารณาบริบทของข้อความทั้งหมด\n",
    "    2. สังเกตคำหรือวลีที่แสดงอารมณ์เฉพาะ\n",
    "    3. วิเคราะห์การใช้ภาษาแบบประชดประชัน หรือการใช้ภาษาเชิงอุปมาอุปไมย\n",
    "    4. ตีความอิโมจิที่ใช้ประกอบข้อความ\n",
    "    5. สังเกตเครื่องหมายวรรคตอนที่อาจบ่งบอกอารมณ์ เช่น '!' หรือ '?'\n",
    "    6. พิจารณาการใช้คำซ้ำหรือการเน้นย้ำที่อาจบ่งบอกอารมณ์\n",
    "    7. ระวังการใช้ภาษาเฉพาะกลุ่มหรือสแลงที่อาจมีความหมายพิเศษ\n",
    "\n",
    "    ตัวอย่างการวิเคราะห์:\n",
    "    - \"วันนี้อากาศดีจังเลย :sunny:\" => 0 (เจตนาบวก เนื่องจากแสดงความพึงพอใจต่อสภาพอากาศและใช้อิโมจิสนับสนุน)\n",
    "    - \"ราคาสินค้าเท่าไหร่ครับ?\" => 3 (เจตนาถาม เป็นคำถามโดยตรงเกี่ยวกับราคาสินค้า)\n",
    "    - \"บริการแย่มาก ไม่มาอีกแล้ว :angry:\" => 2 (เจตนาลบ แสดงความไม่พอใจชัดเจนและใช้อิโมจิโกรธ)\n",
    "    - \"วันนี้ท้องฟ้าสีเทา\" => 1 (เป็นกลาง เพียงบรรยายสภาพอากาศโดยไม่แสดงอารมณ์)\n",
    "\n",
    "    กรุณาวิเคราะห์ข้อความต่อไปนี้และระบุหมายเลขที่ตรงกับเจตนาหรืออารมณ์ (ตอบเฉพาะตัวเลข):\n",
    "    \n",
    "    '{text}'\n",
    "    \"\"\"\n",
    "\n",
    "    response = client.chat.completions.create(\n",
    "        model=\"typhoon-v1.5x-70b-instruct\",\n",
    "        messages=[\n",
    "            {\"role\": \"system\", \"content\": prompt},\n",
    "            {\"role\": \"user\", \"content\": text}\n",
    "        ],\n",
    "        max_tokens=200,\n",
    "        temperature=0.0,\n",
    "        top_p=1,\n",
    "        stream=False\n",
    "    )\n",
    "\n",
    "    output = response.choices[0].message.content.strip()\n",
    "    return output\n",
    "\n",
    "# Apply the improved RAG model to classify sentiments\n",
    "df['predicted_category'] = df['preprocessed_texts'].apply(classify_sentiment)\n",
    "\n",
    "# Save the results\n",
    "output_path = 'data/prediction.csv'\n",
    "df.to_csv(output_path, index=False)"
   ]
  },
  {
   "cell_type": "markdown",
   "metadata": {},
   "source": [
    "Evaluate"
   ]
  },
  {
   "cell_type": "markdown",
   "metadata": {},
   "source": [
    "confusion matrix"
   ]
  },
  {
   "cell_type": "code",
   "execution_count": 29,
   "metadata": {},
   "outputs": [
    {
     "name": "stdout",
     "output_type": "stream",
     "text": [
      "accuracy: 46.5 %\n"
     ]
    },
    {
     "data": {
      "image/png": "[encoded data removed]",
      "text/plain": [
       "<Figure size 1000x700 with 2 Axes>"
      ]
     },
     "metadata": {},
     "output_type": "display_data"
    }
   ],
   "source": [
    "import pandas as pd\n",
    "import matplotlib.pyplot as plt\n",
    "import seaborn as sns\n",
    "from sklearn.metrics import confusion_matrix\n",
    "\n",
    "# Read the CSV file\n",
    "test_df = pd.read_csv(\"data/prediction.csv\")\n",
    "\n",
    "# Function to calculate accuracy\n",
    "def get_acc(test_df):\n",
    "    return len(test_df[test_df['category'] == test_df['predicted_category']]) * 100 / len(test_df)\n",
    "\n",
    "# Calculate accuracy\n",
    "accuracy = get_acc(test_df)\n",
    "print(\"accuracy:\", accuracy, \"%\")\n",
    "\n",
    "# Calculate the confusion matrix\n",
    "conf_matrix = confusion_matrix(test_df['category'], test_df['predicted_category'])\n",
    "\n",
    "# Plot the confusion matrix\n",
    "plt.figure(figsize=(10, 7))\n",
    "sns.heatmap(conf_matrix, annot=True, fmt='d', cmap='Blues', xticklabels=test_df['category'].unique(), yticklabels=test_df['category'].unique())\n",
    "plt.xlabel('Predicted')\n",
    "plt.ylabel('Actual')\n",
    "plt.title('Confusion Matrix')\n",
    "plt.show()\n"
   ]
  }
 ],
 "metadata": {
  "kernelspec": {
   "display_name": "prompt_generator",
   "language": "python",
   "name": "python3"
  },
  "language_info": {
   "codemirror_mode": {
    "name": "ipython",
    "version": 3
   },
   "file_extension": ".py",
   "mimetype": "text/x-python",
   "name": "python",
   "nbconvert_exporter": "python",
   "pygments_lexer": "ipython3",
   "version": "3.12.4"
  }
 },
 "nbformat": 4,
 "nbformat_minor": 2
}
