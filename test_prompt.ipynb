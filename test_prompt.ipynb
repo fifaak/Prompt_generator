{
 "cells": [
  {
   "cell_type": "code",
   "execution_count": 4,
   "metadata": {},
   "outputs": [
    {
     "name": "stdout",
     "output_type": "stream",
     "text": [
      "Requirement already satisfied: openai in /opt/anaconda3/envs/prompt_generator/lib/python3.12/site-packages (1.35.10)\n",
      "Requirement already satisfied: anyio<5,>=3.5.0 in /opt/anaconda3/envs/prompt_generator/lib/python3.12/site-packages (from openai) (4.4.0)\n",
      "Requirement already satisfied: distro<2,>=1.7.0 in /opt/anaconda3/envs/prompt_generator/lib/python3.12/site-packages (from openai) (1.9.0)\n",
      "Requirement already satisfied: httpx<1,>=0.23.0 in /opt/anaconda3/envs/prompt_generator/lib/python3.12/site-packages (from openai) (0.27.0)\n",
      "Requirement already satisfied: pydantic<3,>=1.9.0 in /opt/anaconda3/envs/prompt_generator/lib/python3.12/site-packages (from openai) (2.8.2)\n",
      "Requirement already satisfied: sniffio in /opt/anaconda3/envs/prompt_generator/lib/python3.12/site-packages (from openai) (1.3.1)\n",
      "Requirement already satisfied: tqdm>4 in /opt/anaconda3/envs/prompt_generator/lib/python3.12/site-packages (from openai) (4.66.4)\n",
      "Requirement already satisfied: typing-extensions<5,>=4.7 in /opt/anaconda3/envs/prompt_generator/lib/python3.12/site-packages (from openai) (4.12.2)\n",
      "Requirement already satisfied: idna>=2.8 in /opt/anaconda3/envs/prompt_generator/lib/python3.12/site-packages (from anyio<5,>=3.5.0->openai) (3.7)\n",
      "Requirement already satisfied: certifi in /opt/anaconda3/envs/prompt_generator/lib/python3.12/site-packages (from httpx<1,>=0.23.0->openai) (2024.7.4)\n",
      "Requirement already satisfied: httpcore==1.* in /opt/anaconda3/envs/prompt_generator/lib/python3.12/site-packages (from httpx<1,>=0.23.0->openai) (1.0.5)\n",
      "Requirement already satisfied: h11<0.15,>=0.13 in /opt/anaconda3/envs/prompt_generator/lib/python3.12/site-packages (from httpcore==1.*->httpx<1,>=0.23.0->openai) (0.14.0)\n",
      "Requirement already satisfied: annotated-types>=0.4.0 in /opt/anaconda3/envs/prompt_generator/lib/python3.12/site-packages (from pydantic<3,>=1.9.0->openai) (0.7.0)\n",
      "Requirement already satisfied: pydantic-core==2.20.1 in /opt/anaconda3/envs/prompt_generator/lib/python3.12/site-packages (from pydantic<3,>=1.9.0->openai) (2.20.1)\n",
      "Note: you may need to restart the kernel to use updated packages.\n",
      "Collecting pandas\n",
      "  Using cached pandas-2.2.2-cp312-cp312-macosx_11_0_arm64.whl.metadata (19 kB)\n",
      "Collecting numpy>=1.26.0 (from pandas)\n",
      "  Using cached numpy-2.0.0-cp312-cp312-macosx_14_0_arm64.whl.metadata (60 kB)\n",
      "Requirement already satisfied: python-dateutil>=2.8.2 in /opt/anaconda3/envs/prompt_generator/lib/python3.12/site-packages (from pandas) (2.9.0)\n",
      "Collecting pytz>=2020.1 (from pandas)\n",
      "  Using cached pytz-2024.1-py2.py3-none-any.whl.metadata (22 kB)\n",
      "Collecting tzdata>=2022.7 (from pandas)\n",
      "  Using cached tzdata-2024.1-py2.py3-none-any.whl.metadata (1.4 kB)\n",
      "Requirement already satisfied: six>=1.5 in /opt/anaconda3/envs/prompt_generator/lib/python3.12/site-packages (from python-dateutil>=2.8.2->pandas) (1.16.0)\n",
      "Using cached pandas-2.2.2-cp312-cp312-macosx_11_0_arm64.whl (11.3 MB)\n",
      "Using cached numpy-2.0.0-cp312-cp312-macosx_14_0_arm64.whl (5.0 MB)\n",
      "Using cached pytz-2024.1-py2.py3-none-any.whl (505 kB)\n",
      "Using cached tzdata-2024.1-py2.py3-none-any.whl (345 kB)\n",
      "Installing collected packages: pytz, tzdata, numpy, pandas\n"
     ]
    }
   ],
   "source": [
    "%pip install openai\n",
    "%pip install pandas"
   ]
  },
  {
   "cell_type": "code",
   "execution_count": 1,
   "metadata": {},
   "outputs": [
    {
     "ename": "ModuleNotFoundError",
     "evalue": "No module named 'openai'",
     "output_type": "error",
     "traceback": [
      "\u001b[0;31m---------------------------------------------------------------------------\u001b[0m",
      "\u001b[0;31mModuleNotFoundError\u001b[0m                       Traceback (most recent call last)",
      "Cell \u001b[0;32mIn[1], line 1\u001b[0m\n\u001b[0;32m----> 1\u001b[0m \u001b[38;5;28;01mfrom\u001b[39;00m \u001b[38;5;21;01mopenai\u001b[39;00m \u001b[38;5;28;01mimport\u001b[39;00m OpenAI\n\u001b[1;32m      2\u001b[0m \u001b[38;5;28;01mimport\u001b[39;00m \u001b[38;5;21;01mos\u001b[39;00m\n\u001b[1;32m      3\u001b[0m \u001b[38;5;28;01mimport\u001b[39;00m \u001b[38;5;21;01mjson\u001b[39;00m\n",
      "\u001b[0;31mModuleNotFoundError\u001b[0m: No module named 'openai'"
     ]
    }
   ],
   "source": [
    "from openai import OpenAI\n",
    "import os\n",
    "import json\n",
    "def request_hint(word):\n",
    "    API_KEY = \"sk-jCsvhJjSF0Jaq63NrfZJnvFsvNyXcO6WtuuhIAs70cgR77jo\" #\n",
    "\n",
    "    client = OpenAI(\n",
    "        api_key=API_KEY,  \n",
    "        base_url=\"https://api.opentyphoon.ai/v1\",\n",
    "    )\n",
    "\n",
    "    stream = client.chat.completions.create(\n",
    "        model=\"typhoon-v1.5x-70b-instruct\",\n",
    "        messages=[\n",
    "            {\n",
    "                \"role\": \"system\",\n",
    "                \"content\": \n",
    "                \"\"\"\n",
    "                คุณเป็นเจ้าหน้าที่ตรวจสอบคอมเม้นในบริษัทโซเชียลมีเดีย.\n",
    "                มีหน้าที่ตรวจสอบข้อความและระบุเจตนาหรืออารมณ์ในแต่ละข้อความ,พิจารณาอิโมจิ.\n",
    "                โดยที่เจตนาบวกแทนด้วยเลข 0, ไม่มีเจตนาหรืออารมณ์แทนด้วยเลข 1,เจตนาลบแทนด้วยเลข 2, และเจตนาถามแทนด้วยเลข 3.\n",
    "                ให้คุณวิเคราะห์เจตนาหรืออารมณ์ข้อความของ ผู้ใช้งาน และระบุตัวเลขเจตนาตามที่กำหนดไว้.\n",
    "                โดยคิดอย่างเป็นขั้นตอน.\n",
    "\n",
    "                ตัวอย่างการวิเคราะห์ข้อความ เจตนา และเหตุผล:\n",
    "                - เปิดศักราชใหม่! นายกฯ แถลงข่าวก่อนการแข่งขันศึก #ช้างเอฟเอคัพ นัดชิงชนะเลิศ => 1 เพราะคอมเม้นนี้สื่ออารมณ์เป็นกลาง\n",
    "                - (emoji:smiling_face_with_heart-eyes::smiling_face_with_heart-eyes:) => 0 เพราะคอมเม้นนี้สื่อไปในทางรัก\n",
    "                - บัตรสมาชิกลดได้อีกไหมคับ => 3 เพราะคอมเม้นนี้สื่อไปในการตั้งคำถาม\n",
    "                - 张丽霞 อ้อออ ผ้าอนามัยแบบสอดอ่ะนะ กุกลัวมาก 5555555 => 2  เพราะคอมเม้นนี้สื่ออารมณ์ความกังวน กลัว\n",
    "             \n",
    "\n",
    "                \"\"\"\n",
    "            },\n",
    "            {\n",
    "                \"role\": \"user\",\n",
    "               # \"content\": f\"ผมอยากฝึกพูดคำว่า {word}\"\n",
    "                \"content\": f\"ลูกค้าคอมเม้นบอกว่า '{word}' มีเจตนาหรืออารมณ์ ตรงกับเลขอะไร (ตอบเฉพาะตัวเลข)\"\n",
    "\n",
    "            }\n",
    "        ],\n",
    "        max_tokens=200,\n",
    "        temperature=0.0,\n",
    "        top_p=1,\n",
    "        stream=True,\n",
    "    )\n",
    "    output = \"\"\n",
    "    for chunk in stream:\n",
    "        if hasattr(chunk, 'choices') and len(chunk.choices) > 0:\n",
    "            choice = chunk.choices[0]\n",
    "            if hasattr(choice, 'delta') and hasattr(choice.delta, 'content'):\n",
    "                print(choice.delta.content,end=\"\")\n",
    "                output+=choice.delta.content\n",
    " \n",
    "    return output"
   ]
  },
  {
   "cell_type": "markdown",
   "metadata": {},
   "source": [
    "### RAG"
   ]
  },
  {
   "cell_type": "code",
   "execution_count": 3,
   "metadata": {},
   "outputs": [
    {
     "name": "stdout",
     "output_type": "stream",
     "text": [
      "2"
     ]
    },
    {
     "data": {
      "text/plain": [
       "'2'"
      ]
     },
     "execution_count": 3,
     "metadata": {},
     "output_type": "execute_result"
    }
   ],
   "source": [
    "import pandas as pd\n",
    "from openai import OpenAI\n",
    "\n",
    "# Load the CSV data\n",
    "data_path = './train.csv'\n",
    "df = pd.read_csv(data_path)\n",
    "df = df.tail(20)\n",
    "\n",
    "# Initialize OpenAI client\n",
    "API_KEY = \"sk-jCsvhJjSF0Jaq63NrfZJnvFsvNyXcO6WtuuhIAs70cgR77jo\"\n",
    "client = OpenAI(api_key=API_KEY, base_url=\"https://api.opentyphoon.ai/v1\")\n",
    "\n",
    "# Define the RAG function\n",
    "def classify_sentiment(text):\n",
    "    # Define the retrieval and generation prompt\n",
    "    prompt = f\"\"\"\n",
    "    คุณเป็นเจ้าหน้าที่ตรวจสอบคอมเม้นในบริษัทโซเชียลมีเดีย.\n",
    "    มีหน้าที่ตรวจสอบข้อความและระบุเจตนาหรืออารมณ์ในแต่ละข้อความ,พิจารณาอิโมจิ.\n",
    "    โดยที่เจตนาบวกแทนด้วยเลข 0, ไม่มีเจตนาหรืออารมณ์แทนด้วยเลข 1,เจตนาลบแทนด้วยเลข 2, และเจตนาถามแทนด้วยเลข 3.\n",
    "    ให้คุณวิเคราะห์เจตนาหรืออารมณ์ข้อความของ ผู้ใช้งาน และระบุตัวเลขเจตนาตามที่กำหนดไว้.\n",
    "    โดยคิดอย่างเป็นขั้นตอน.\n",
    "\n",
    "    ตัวอย่างการวิเคราะห์ข้อความ เจตนา และเหตุผล:\n",
    "    - เปิดศักราชใหม่! นายกฯ แถลงข่าวก่อนการแข่งขันศึก #ช้างเอฟเอคัพ นัดชิงชนะเลิศ => 1 เพราะคอมเม้นนี้สื่ออารมณ์เป็นกลาง\n",
    "    - (emoji:smiling_face_with_heart-eyes::smiling_face_with_heart-eyes:) => 0 เพราะคอมเม้นนี้สื่อไปในทางรัก\n",
    "    - บัตรสมาชิกลดได้อีกไหมคับ => 3 เพราะคอมเม้นนี้สื่อไปในการตั้งคำถาม\n",
    "    - 张丽霞 อ้อออ ผ้าอนามัยแบบสอดอ่ะนะ กุกลัวมาก 5555555 => 2  เพราะคอมเม้นนี้สื่ออารมณ์ความกังวน กลัว\n",
    "\n",
    "    ลูกค้าคอมเม้นบอกว่า '{text}' มีเจตนาหรืออารมณ์ ตรงกับเลขอะไร (ตอบเฉพาะตัวเลข)\n",
    "    \"\"\"\n",
    "\n",
    "    # Make a request to the OpenAI API\n",
    "    response = client.chat.completions.create(\n",
    "        model=\"typhoon-v1.5x-70b-instruct\",\n",
    "        messages=[\n",
    "            {\n",
    "                \"role\": \"system\",\n",
    "                \"content\": prompt\n",
    "            },\n",
    "            {\n",
    "                \"role\": \"user\",\n",
    "                \"content\": text\n",
    "            }\n",
    "        ],\n",
    "        max_tokens=200,\n",
    "        temperature=0.0,\n",
    "        top_p=1,\n",
    "        stream=False\n",
    "    )\n",
    "\n",
    "    # Extract the classification result from the response\n",
    "    output = response.choices[0].message.content.strip()\n",
    "    return output\n",
    "\n",
    "# Apply the RAG model to classify sentiments for each text in the dataset\n",
    "df['predicted_category'] = df['texts'].apply(classify_sentiment)\n",
    "\n",
    "# Save the results\n",
    "output_path = './predicted_train.csv'\n",
    "df.to_csv(output_path, index=False)\n",
    "print(f\"Results saved to {output_path}\")\n"
   ]
  }
 ],
 "metadata": {
  "kernelspec": {
   "display_name": "prompt_generator",
   "language": "python",
   "name": "python3"
  },
  "language_info": {
   "codemirror_mode": {
    "name": "ipython",
    "version": 3
   },
   "file_extension": ".py",
   "mimetype": "text/x-python",
   "name": "python",
   "nbconvert_exporter": "python",
   "pygments_lexer": "ipython3",
   "version": "3.12.4"
  }
 },
 "nbformat": 4,
 "nbformat_minor": 2
}
